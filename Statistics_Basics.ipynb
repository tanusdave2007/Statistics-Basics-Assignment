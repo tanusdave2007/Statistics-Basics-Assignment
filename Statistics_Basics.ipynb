{
  "nbformat": 4,
  "nbformat_minor": 0,
  "metadata": {
    "colab": {
      "provenance": []
    },
    "kernelspec": {
      "name": "python3",
      "display_name": "Python 3"
    },
    "language_info": {
      "name": "python"
    }
  },
  "cells": [
    {
      "cell_type": "code",
      "execution_count": null,
      "metadata": {
        "id": "cr62vb2reHPj"
      },
      "outputs": [],
      "source": []
    },
    {
      "cell_type": "markdown",
      "source": [
        "Question 1: What is the difference between descriptive statistics and inferential\n",
        "statistics? Explain with examples.\n",
        "\n",
        "Ans:- Descriptive statistics and inferential statistics are two key branches of statistics, differing in purpose and application:\n",
        "\n",
        "Descriptive Statistics: Summarizes and describes the main features of a dataset without drawing conclusions beyond it. It uses measures like mean, median, mode, standard deviation, and visualizations (histograms, boxplots) to present data.\n",
        "\n",
        "Example: A teacher calculates the average marks of students in her class to describe their performance.\n",
        "\n",
        "\n",
        "Inferential Statistics: Goes beyond the given data to make predictions, generalizations, or decisions about a larger population, using sampling and probability theory. It involves hypothesis testing, confidence intervals, and regression.\n",
        "\n",
        "Example: A researcher takes a sample of 100 voters to infer the voting preference of the entire city.\n",
        "\n",
        "👉 In short: Descriptive = describe what you have, Inferential = predict or conclude beyond what you have."
      ],
      "metadata": {
        "id": "c23gXtoPeZHG"
      }
    },
    {
      "cell_type": "markdown",
      "source": [
        "Question 2: What is sampling in statistics? Explain the differences between random and stratified sampling.\n",
        "\n",
        "Ans:- Sampling in statistics is the process of selecting a subset of individuals (sample) from a larger population to draw conclusions or make inferences about the whole population. It is widely used because studying an entire population is often impractical, costly, or time-consuming.\n",
        "\n",
        "Differences between Random Sampling and Stratified Sampling:\n",
        "\n",
        "Random Sampling Points:\n",
        "- Every individual in the population has an equal chance of being selected\n",
        "\n",
        "- Selection is purely by chance, using methods like generation of random numbers\n",
        "\n",
        "- Best usecase is when the population is homogeneous\n",
        "\n",
        "Stratified Sampling Points:\n",
        "\n",
        "- The population is divided into groups based on charecteristics, and samples are taken from each group\n",
        "\n",
        "- Ensures representation from each subgroup, often proportionately\n",
        "\n",
        "- Best when the population is heterogeneous"
      ],
      "metadata": {
        "id": "gbJ2PgW7ejz9"
      }
    },
    {
      "cell_type": "markdown",
      "source": [
        "Question 3: Define mean, median, and mode. Explain why these measures of central tendency are important.\n",
        "\n",
        "Ans:-\n",
        "\n",
        "Mean, Median, and Mode are the three main measures of central tendency, which describe the center or typical value of a dataset:\n",
        "\n",
        "Mean: The arithmetic average, calculated by summing all values and dividing by the number of observations.\n",
        "\n",
        "Example: Mean of [2, 4, 6] = (2+4+6)/3 = 4.\n",
        "\n",
        "Median: The middle value when data is arranged in order. If the dataset has an even number of values, it is the average of the two middle numbers.\n",
        "\n",
        "Example: Median of [2, 4, 6] = 4; Median of [1, 3, 5, 7] = (3+5)/2 = 4.\n",
        "\n",
        "Mode: The most frequently occurring value(s) in a dataset.\n",
        "\n",
        "Example: Mode of [2, 4, 4, 6] = 4.\n",
        "\n",
        "Importance: These measures help summarize large datasets with a single representative value, making it easier to understand and compare distributions. They are widely used in statistics, economics, research, and data analysis to identify trends, typical behavior, or central patterns."
      ],
      "metadata": {
        "id": "RQ9DlDQAfNGS"
      }
    },
    {
      "cell_type": "markdown",
      "source": [
        "Question 4: Explain skewness and kurtosis. What does a positive skew imply about the data?\n",
        "\n",
        "Ans:- Skewness and kurtosis are statistical measures that describe the shape of a distribution:\n",
        "\n",
        "Skewness: Measures the asymmetry of a distribution.\n",
        "\n",
        "Positive Skew (Right-skewed): Tail is longer on the right; most data values lie to the left of the mean. Example: income distribution (many low, few very high).\n",
        "\n",
        "Negative Skew (Left-skewed): Tail is longer on the left; most data values lie to the right of the mean.\n",
        "\n",
        "Kurtosis: Measures the tailedness or sharpness of a distribution compared to a normal distribution.\n",
        "\n",
        "High Kurtosis (Leptokurtic): Heavier tails and sharper peak (more outliers).\n",
        "\n",
        "Low Kurtosis (Platykurtic): Lighter tails and flatter peak (fewer outliers).\n",
        "\n",
        "Normal Kurtosis (Mesokurtic): Similar to a normal bell curve.\n",
        "\n",
        "👉 Positive skew implies the dataset has a long right tail, meaning a majority of observations are below the mean, with a few very large values pulling the mean to the right."
      ],
      "metadata": {
        "id": "svHHei65fYR2"
      }
    },
    {
      "cell_type": "markdown",
      "source": [
        "Question 5: Implement a Python program to compute the mean, median, and mode of a given list of numbers.\n",
        "\n",
        "numbers = [12, 15, 12, 18, 19, 12, 20, 22, 19, 19, 24, 24, 24, 26, 28]"
      ],
      "metadata": {
        "id": "riASk00LfktY"
      }
    },
    {
      "cell_type": "code",
      "source": [
        "import numpy as np\n",
        "import pandas as pd\n",
        "# Given list of numbers\n",
        "numbers = [12, 15, 12, 18, 19, 12, 20, 22, 19, 19, 24, 24, 24, 26, 28]\n",
        "# Using NumPy\n",
        "mean_value = np.mean(numbers)\n",
        "median_value = np.median(numbers)\n",
        "# Using Pandas (for mode, since NumPy doesn’t have a direct mode function)\n",
        "mode_value = pd.Series(numbers).mode()[0]\n",
        "# Print results\n",
        "print(\"Mean:\", mean_value)\n",
        "print(\"Median:\", median_value)\n",
        "print(\"Mode:\", mode_value)"
      ],
      "metadata": {
        "colab": {
          "base_uri": "https://localhost:8080/"
        },
        "id": "EtWHhoLJejBW",
        "outputId": "2062fbfc-52f4-42ef-cb84-1a8d045913cc"
      },
      "execution_count": 1,
      "outputs": [
        {
          "output_type": "stream",
          "name": "stdout",
          "text": [
            "Mean: 19.6\n",
            "Median: 19.0\n",
            "Mode: 12\n"
          ]
        }
      ]
    },
    {
      "cell_type": "markdown",
      "source": [
        "Question 6: Compute the covariance and correlation coefficient between the following two datasets provided as lists in Python:\n",
        "\n",
        "list_x = [10, 20, 30, 40, 50], list_y = [15, 25, 35, 45, 60]"
      ],
      "metadata": {
        "id": "Bv1iCzkCfwt2"
      }
    },
    {
      "cell_type": "code",
      "source": [
        "list_x = [10, 20, 30, 40, 50]\n",
        "list_y = [15, 25, 35, 45, 60]\n",
        "\n",
        "cov_matrix = np.cov(list_x, list_y, bias=True)\n",
        "cov_xy = cov_matrix[0, 1]\n",
        "corr_xy = np.corrcoef(list_x, list_y)[0, 1]\n",
        "print(\"Covariance:\", cov_xy)\n",
        "print(\"Correlation Coefficient:\", corr_xy)"
      ],
      "metadata": {
        "colab": {
          "base_uri": "https://localhost:8080/"
        },
        "id": "nl9l3vbyftyW",
        "outputId": "e8327de8-21ea-4155-8743-91ee417b2b25"
      },
      "execution_count": 2,
      "outputs": [
        {
          "output_type": "stream",
          "name": "stdout",
          "text": [
            "Covariance: 220.0\n",
            "Correlation Coefficient: 0.995893206467704\n"
          ]
        }
      ]
    },
    {
      "cell_type": "markdown",
      "source": [
        "Question 7: Write a Python script to draw a boxplot for the following numeric list and identify its outliers. Explain the result:\n",
        "\n",
        "data = [12, 14, 14, 15, 18, 19, 19, 21, 22, 22, 23, 23, 24, 26, 29, 35]"
      ],
      "metadata": {
        "id": "-Cw8FBDCf5aF"
      }
    },
    {
      "cell_type": "code",
      "source": [
        "import matplotlib.pyplot as plt\n",
        "\n",
        "data = [12, 14, 14, 15, 18, 19, 19, 21, 22, 22, 23, 23, 24, 26, 29, 35]\n",
        "\n",
        "plt.figure(figsize=(5,4))\n",
        "plt.boxplot(data, vert=False, patch_artist=True, boxprops=dict(facecolor=\"lightblue\"))\n",
        "plt.title(\"Boxplot of Given Data\")\n",
        "plt.xlabel(\"Values\")\n",
        "plt.show()\n",
        "# --- Outlier detection using IQR ---\n",
        "Q1 = np.percentile(data, 25)\n",
        "Q3 = np.percentile(data, 75)\n",
        "IQR = Q3 - Q1\n",
        "lower_bound = Q1 - 1.5 * IQR\n",
        "upper_bound = Q3 + 1.5 * IQR\n",
        "6\n",
        "outliers = [x for x in data if x < lower_bound or x > upper_bound]\n",
        "print(\"Q1:\", Q1)\n",
        "print(\"Q3:\", Q3)\n",
        "print(\"IQR:\", IQR)\n",
        "print(\"Lower Bound:\", lower_bound)\n",
        "print(\"Upper Bound:\", upper_bound)\n",
        "print(\"Outliers:\", outliers)"
      ],
      "metadata": {
        "colab": {
          "base_uri": "https://localhost:8080/",
          "height": 514
        },
        "id": "usJu512of1P7",
        "outputId": "e5fad847-9da0-45cd-af0b-a5d63e250ad4"
      },
      "execution_count": 3,
      "outputs": [
        {
          "output_type": "display_data",
          "data": {
            "text/plain": [
              "<Figure size 500x400 with 1 Axes>"
            ],
            "image/png": "[encoded data removed]"
          },
          "metadata": {}
        },
        {
          "output_type": "stream",
          "name": "stdout",
          "text": [
            "Q1: 17.25\n",
            "Q3: 23.25\n",
            "IQR: 6.0\n",
            "Lower Bound: 8.25\n",
            "Upper Bound: 32.25\n",
            "Outliers: [35]\n"
          ]
        }
      ]
    },
    {
      "cell_type": "markdown",
      "source": [
        "Question 8: You are working as a data analyst in an e-commerce company. The marketing team wants to know if there is a relationship between advertising spend and daily sales.\n",
        "\n",
        "\n",
        "● Explain how you would use covariance and correlation to explore this\n",
        "relationship.\n",
        "\n",
        "● Write Python code to compute the correlation between the two lists:\n",
        "\n",
        "advertising_spend = [200, 250, 300, 400, 500]\n",
        "\n",
        "daily_sales = [2200, 2450, 2750, 3200, 4000]\n"
      ],
      "metadata": {
        "id": "pe80o7S7f-_F"
      }
    },
    {
      "cell_type": "code",
      "source": [
        "# Given data\n",
        "advertising_spend = [200, 250, 300, 400, 500]\n",
        "daily_sales = [2200, 2450, 2750, 3200, 4000]\n",
        "# --- NumPy ---\n",
        "# Covariance matrix\n",
        "cov_matrix = np.cov(advertising_spend, daily_sales, bias=True)\n",
        "cov_xy = cov_matrix[0, 1]\n",
        "# Correlation coefficient\n",
        "corr_xy = np.corrcoef(advertising_spend, daily_sales)[0, 1]\n",
        "print(\"NumPy Results:\")\n",
        "print(\"Covariance:\", cov_xy)\n",
        "print(\"Correlation:\", corr_xy)"
      ],
      "metadata": {
        "colab": {
          "base_uri": "https://localhost:8080/"
        },
        "id": "0RbvNCfcf9vA",
        "outputId": "f0af6cd9-1518-4e4b-e6da-5e2602318d31"
      },
      "execution_count": 4,
      "outputs": [
        {
          "output_type": "stream",
          "name": "stdout",
          "text": [
            "NumPy Results:\n",
            "Covariance: 67900.0\n",
            "Correlation: 0.9935824101653329\n"
          ]
        }
      ]
    },
    {
      "cell_type": "markdown",
      "source": [
        "Question 9: Your team has collected customer satisfaction survey data on a scale of 1-10 and wants to understand its distribution before launching a new product.\n",
        "\n",
        "● Explain which summary statistics and visualizations (e.g. mean, standard deviation, histogram) you’d use.\n",
        "\n",
        "● Write Python code to create a histogram using Matplotlib for the survey data: survey_scores = [7, 8, 5, 9, 6, 7, 8, 9, 10, 4, 7, 6, 9, 8, 7]\n",
        "\n",
        "Ans:-\n",
        "\n",
        "To understand the distribution of customer satisfaction survey scores (1–10 scale), we should use:\n",
        "\n",
        "Mean & Median → measures of central tendency (average satisfaction).\n",
        "\n",
        "Standard Deviation & Variance → how spread out the scores are.\n",
        "\n",
        "Minimum, Maximum, Range → overall limits of satisfaction.\n",
        "\n",
        "Histogram → visualize the frequency of scores to see if data is skewed or centered.\n",
        "\n",
        "Boxplot (optional) → to check for outliers."
      ],
      "metadata": {
        "id": "dMwvQADUgMa9"
      }
    },
    {
      "cell_type": "code",
      "source": [
        "# Survey data\n",
        "survey_scores = [7, 8, 5, 9, 6, 7, 8, 9, 10, 4, 7, 6, 9, 8, 7]\n",
        "# Summary statistics\n",
        "mean_score = np.mean(survey_scores)\n",
        "std_score = np.std(survey_scores, ddof=1) # sample std deviation\n",
        "median_score = np.median(survey_scores)\n",
        "print(\"Mean:\", mean_score)\n",
        "print(\"Median:\", median_score)\n",
        "print(\"Standard Deviation:\", std_score)\n",
        "# Histogram\n",
        "plt.figure(figsize=(5,4))\n",
        "plt.hist(survey_scores, bins=6, color=\"skyblue\", edgecolor=\"black\")\n",
        "plt.title(\"Histogram of Customer Satisfaction Scores\")\n",
        "plt.xlabel(\"Score\")\n",
        "plt.ylabel(\"Frequency\")\n",
        "plt.legend()\n",
        "plt.show()"
      ],
      "metadata": {
        "colab": {
          "base_uri": "https://localhost:8080/",
          "height": 517
        },
        "id": "hcz1E_JAgLHm",
        "outputId": "610f9c08-cf5e-4831-d873-280585c760a9"
      },
      "execution_count": 5,
      "outputs": [
        {
          "output_type": "stream",
          "name": "stdout",
          "text": [
            "Mean: 7.333333333333333\n",
            "Median: 7.0\n",
            "Standard Deviation: 1.632993161855452\n"
          ]
        },
        {
          "output_type": "stream",
          "name": "stderr",
          "text": [
            "/tmp/ipython-input-449866534.py:16: UserWarning: No artists with labels found to put in legend.  Note that artists whose label start with an underscore are ignored when legend() is called with no argument.\n",
            "  plt.legend()\n"
          ]
        },
        {
          "output_type": "display_data",
          "data": {
            "text/plain": [
              "<Figure size 500x400 with 1 Axes>"
            ],
            "image/png": "[encoded data removed]"
          },
          "metadata": {}
        }
      ]
    },
    {
      "cell_type": "code",
      "source": [],
      "metadata": {
        "id": "kPj6rjH6gYan"
      },
      "execution_count": null,
      "outputs": []
    }
  ]
}